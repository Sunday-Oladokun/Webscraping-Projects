{
 "cells": [
  {
   "cell_type": "markdown",
   "metadata": {},
   "source": [
    "### TARGET SITE: https://nigeriapropertycentre.com/for-sale/houses/showtype"
   ]
  },
  {
   "cell_type": "markdown",
   "metadata": {},
   "source": [
    "Scrape the first 5 pages of this website.\n",
    "\n",
    "Extract NIgerian house listing data. The information to be extracted for each listing is:\n",
    "    \n",
    "1. Listing\n",
    "    \n",
    "2. Property\n",
    "    \n",
    "3. Location\n",
    "    \n",
    "4. Price\n",
    "\n",
    "5. Company\n",
    "\n",
    "6. Phone Number\n",
    "\n",
    "7. Properties (Bathroom, Bedrooms etc)\n",
    "    \n",
    "The output would be a pandas dataframe"
   ]
  },
  {
   "cell_type": "markdown",
   "metadata": {},
   "source": [
    "### IMPORT NECESSARY LIBRARIES"
   ]
  },
  {
   "cell_type": "code",
   "execution_count": 2,
   "metadata": {},
   "outputs": [],
   "source": [
    "# Importing the pandas library for data manipulation and analysis\n",
    "import pandas as pd\n",
    "\n",
    "# Importing the time library to introduce delays in the script, if needed\n",
    "import time\n",
    "\n",
    "# Importing BeautifulSoup from the bs4 library to parse HTML and XML documents\n",
    "from bs4 import BeautifulSoup\n",
    "\n",
    "# Importing the requests library to make HTTP requests\n",
    "import requests\n",
    "\n",
    "# Importing the random library to generate random values (e.g., for selecting random user agents)\n",
    "import random"
   ]
  },
  {
   "cell_type": "markdown",
   "metadata": {},
   "source": [
    "### SET INSTANCES"
   ]
  },
  {
   "cell_type": "code",
   "execution_count": 3,
   "metadata": {},
   "outputs": [],
   "source": [
    "# List of user agents to rotate\n",
    "user_agents = [\n",
    "    \"Mozilla/5.0 (Windows NT 10.0; Win64; x64) AppleWebKit/537.36 (KHTML, like Gecko) Chrome/58.0.3029.110 Safari/537.3\",\n",
    "    \"Mozilla/5.0 (Windows NT 6.1; WOW64; rv:54.0) Gecko/20100101 Firefox/54.0\",\n",
    "    \"Mozilla/5.0 (Windows NT 10.0; Win64; x64) AppleWebKit/537.36 (KHTML, like Gecko) Chrome/61.0.3163.100 Safari/537.36\",\n",
    "]\n",
    "\n",
    "# Randomly select a User-Agent header from the list\n",
    "headers = {'User-Agent': random.choice(user_agents)}\n",
    "\n",
    "# Send a GET request to the recipes webpage using a mozilla agaent to mimic web browser\n",
    "source = requests.get(\"https://nigeriapropertycentre.com/for-sale/houses/showtype\", headers=headers)\n",
    "source.raise_for_status()  # Raise an error if the response is not successful\n",
    "    \n",
    "# Create a BeautifulSoup object to parse the HTML content\n",
    "soup = BeautifulSoup(source.text, \"lxml\")"
   ]
  },
  {
   "cell_type": "code",
   "execution_count": null,
   "metadata": {},
   "outputs": [],
   "source": []
  },
  {
   "cell_type": "code",
   "execution_count": null,
   "metadata": {},
   "outputs": [],
   "source": []
  },
  {
   "cell_type": "code",
   "execution_count": null,
   "metadata": {},
   "outputs": [],
   "source": []
  },
  {
   "cell_type": "code",
   "execution_count": null,
   "metadata": {},
   "outputs": [],
   "source": []
  },
  {
   "cell_type": "code",
   "execution_count": null,
   "metadata": {},
   "outputs": [],
   "source": []
  }
 ],
 "metadata": {
  "kernelspec": {
   "display_name": "Python 3",
   "language": "python",
   "name": "python3"
  },
  "language_info": {
   "codemirror_mode": {
    "name": "ipython",
    "version": 3
   },
   "file_extension": ".py",
   "mimetype": "text/x-python",
   "name": "python",
   "nbconvert_exporter": "python",
   "pygments_lexer": "ipython3",
   "version": "3.12.2"
  }
 },
 "nbformat": 4,
 "nbformat_minor": 2
}
