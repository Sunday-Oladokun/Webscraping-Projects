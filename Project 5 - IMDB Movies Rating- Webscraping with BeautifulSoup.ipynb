{
 "cells": [
  {
   "cell_type": "markdown",
   "id": "9a659b86",
   "metadata": {},
   "source": [
    "### IMPORT LIBRARIES"
   ]
  },
  {
   "cell_type": "code",
   "execution_count": 2,
   "id": "08041682",
   "metadata": {},
   "outputs": [],
   "source": [
    "# Import necessary libraries\n",
    "import requests\n",
    "from bs4 import BeautifulSoup\n",
    "import pandas as pd\n",
    "import openpyxl"
   ]
  },
  {
   "cell_type": "markdown",
   "id": "8fe3d882",
   "metadata": {},
   "source": [
    "### CREATE EMPTY EXCEL SHEET TO TAKE SCRAPED FILE"
   ]
  },
  {
   "cell_type": "code",
   "execution_count": 3,
   "id": "a031484c",
   "metadata": {},
   "outputs": [],
   "source": [
    "# create an excel file\n",
    "IMDB_Movies_Excel = openpyxl.Workbook()\n",
    "\n",
    "# Assign the excel sheet and name it\n",
    "sheet = IMDB_Movies_Excel.active\n",
    "sheet.title = \"IMDB Movies Rating\"\n",
    "\n",
    "sheet.append(['Rank', 'Name', 'Year', 'IMDB_Rating'])"
   ]
  },
  {
   "cell_type": "markdown",
   "id": "9a5873a3",
   "metadata": {},
   "source": [
    "### WEBSCRAPING, CONVERTING SCRAPED DATA TO A LIST"
   ]
  },
  {
   "cell_type": "code",
   "execution_count": 22,
   "id": "c2a2e078",
   "metadata": {},
   "outputs": [],
   "source": [
    "# Initialize an empty list to store movie ratings\n",
    "Movie_Rating_List = []\n",
    "\n",
    "# Try to scrape the IMDb top 250 movies webpage\n",
    "try:\n",
    "    # Send a GET request to the IMDb webpage and set a timeout\n",
    "    source = requests.get(\"https://www.imdb.com/chart/top/\", headers={'User-Agent': 'Mozilla/5.0'}, timeout=1000)\n",
    "    source.raise_for_status()  # Raise an error if the response is not successful\n",
    "    \n",
    "    # Create a BeautifulSoup object to parse the HTML content\n",
    "    soup = BeautifulSoup(source.text, \"html.parser\")\n",
    "    \n",
    "    # Find the list containing movie details\n",
    "    movies_250 = soup.find(\"ul\", class_=\"ipc-metadata-list ipc-metadata-list--dividers-between sc-71ed9118-0 kxsUNk compact-list-view ipc-metadata-list--base\", role=\"presentation\")\n",
    "    \n",
    "    # Find all list items containing individual movie details\n",
    "    movies_250_all = movies_250.find_all(\"li\", class_=\"ipc-metadata-list-summary-item sc-1364e729-0 caNpAE cli-parent\")\n",
    "    \n",
    "    # Iterate through each movie in the list\n",
    "    for movie in movies_250_all:\n",
    "        # Extract movie name, removing the period at the beginning\n",
    "        Name = movie.find(\"h3\", class_=\"ipc-title__text\").text.split(\".\")[1]\n",
    "        \n",
    "        # Extract movie rank\n",
    "        Rank = movie.find(\"h3\", class_=\"ipc-title__text\").text.split(\".\")[0]\n",
    "        \n",
    "        # Extract movie release year\n",
    "        Year = movie.find(\"span\", class_=\"sc-be6f1408-8 fcCUPU cli-title-metadata-item\").text\n",
    "        \n",
    "        # Extract IMDb rating of the movie\n",
    "        IMDB_rating = movie.find(\"span\", class_=\"ipc-rating-star--imdb\")\n",
    "        IMDB_rating = IMDB_rating.text.strip()[:3]  # Extracting only the rating value\n",
    "        \n",
    "        # Store movie details in a list\n",
    "        data = [Rank, Name, Year, IMDB_rating]\n",
    "        \n",
    "        # Append the movie details to the main list\n",
    "        Movie_Rating_List.append(data)\n",
    "        \n",
    "        # Append movie details to excel sheet\n",
    "        sheet.append(data)\n",
    "        \n",
    "# Handle exceptions that may occur during the scraping process\n",
    "except Exception as e:\n",
    "    print(e)  # Print the error message if an exception occurs"
   ]
  },
  {
   "cell_type": "markdown",
   "id": "fc9d271f",
   "metadata": {},
   "source": [
    "### SCRAPED DATA TO DATAFRAME"
   ]
  },
  {
   "cell_type": "code",
   "execution_count": 23,
   "id": "f601cede",
   "metadata": {},
   "outputs": [
    {
     "name": "stdout",
     "output_type": "stream",
     "text": [
      "    Rank                       Name  Year IMDB_Rating\n",
      "0      1   The Shawshank Redemption  1994         9.3\n",
      "1      2              The Godfather  1972         9.2\n",
      "2      3            The Dark Knight  2008         9.0\n",
      "3      4      The Godfather Part II  1974         9.0\n",
      "4      5               12 Angry Men  1957         9.0\n",
      "..   ...                        ...   ...         ...\n",
      "245  246                   The Help  2011         8.1\n",
      "246  247      It Happened One Night  1934         8.1\n",
      "247  248     Les quatre cents coups  1959         8.1\n",
      "248  249                    Aladdin  1992         8.0\n",
      "249  250         Dances with Wolves  1990         8.0\n",
      "\n",
      "[250 rows x 4 columns]\n"
     ]
    }
   ],
   "source": [
    "# Define the column names for the DataFrame\n",
    "columns = ['Rank', 'Name', 'Year', 'IMDB_Rating']\n",
    "\n",
    "# Create a DataFrame using the collected movie rating data and column names\n",
    "IMDB_Movie_Rating = pd.DataFrame(data=Movie_Rating_List, columns=columns)\n",
    "\n",
    "# Print the DataFrame containing IMDb movie ratings\n",
    "print(IMDB_Movie_Rating)"
   ]
  },
  {
   "cell_type": "markdown",
   "id": "d1c989e1",
   "metadata": {},
   "source": [
    "### SAVE EXCEL SHEET AND DATAFRAME CREATED LOCALLY"
   ]
  },
  {
   "cell_type": "code",
   "execution_count": 26,
   "id": "b88ed194",
   "metadata": {},
   "outputs": [],
   "source": [
    "IMDB_Movies_Excel.save(\"IMDB Movies Rating_250.xlsx\")\n",
    "IMDB_Movie_Rating.to_csv(\"IMDB Movies DataFrame.csv\")"
   ]
  }
 ],
 "metadata": {
  "kernelspec": {
   "display_name": "Python 3 (ipykernel)",
   "language": "python",
   "name": "python3"
  },
  "language_info": {
   "codemirror_mode": {
    "name": "ipython",
    "version": 3
   },
   "file_extension": ".py",
   "mimetype": "text/x-python",
   "name": "python",
   "nbconvert_exporter": "python",
   "pygments_lexer": "ipython3",
   "version": "3.11.4"
  }
 },
 "nbformat": 4,
 "nbformat_minor": 5
}
