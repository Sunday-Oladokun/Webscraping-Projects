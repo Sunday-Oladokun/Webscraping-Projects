{
 "cells": [
  {
   "cell_type": "markdown",
   "metadata": {},
   "source": [
    "### IMPORT NECESSARY LIBRARIES"
   ]
  },
  {
   "cell_type": "code",
   "execution_count": 1,
   "metadata": {},
   "outputs": [],
   "source": [
    "from requests import get\n",
    "from bs4 import BeautifulSoup as bs\n",
    "import pandas as pd\n",
    "import openpyxl\n",
    "import sqlite3\n",
    "import time\n",
    "from bs4 import BeautifulSoup\n",
    "import requests"
   ]
  },
  {
   "cell_type": "markdown",
   "metadata": {},
   "source": [
    "### CREATE AN EMPTY EXCEL SHEET TO TAKE THE DATA TO BE SCRAPED"
   ]
  },
  {
   "cell_type": "code",
   "execution_count": null,
   "metadata": {},
   "outputs": [],
   "source": [
    "# create an excel file\n",
    "IMDB_Movies_Excel = openpyxl.Workbook()\n",
    "\n",
    "# Assign the excel sheet and name it\n",
    "sheet = IMDB_Movies_Excel.active\n",
    "sheet.title = \"IMDB Movies Rating\"\n",
    "\n",
    "sheet.append(['Rank', 'Name', 'Year', 'IMDB_Rating'])"
   ]
  },
  {
   "cell_type": "markdown",
   "metadata": {},
   "source": [
    "### WEBSCRAPING, CONVERTING SCRAPED DATA TO A LIST"
   ]
  },
  {
   "cell_type": "markdown",
   "metadata": {},
   "source": [
    "### DATABASE SETUP"
   ]
  },
  {
   "cell_type": "code",
   "execution_count": 4,
   "metadata": {},
   "outputs": [
    {
     "data": {
      "text/plain": [
       "<sqlite3.Cursor at 0x1905d297bc0>"
      ]
     },
     "execution_count": 4,
     "metadata": {},
     "output_type": "execute_result"
    }
   ],
   "source": [
    "# Database setup\n",
    "conn = sqlite3.connect('recipes.db')\n",
    "c = conn.cursor()\n",
    "c.execute('''CREATE TABLE IF NOT EXISTS RECIPES (title TEXT, ingredients TEXT, rating REAL)''')"
   ]
  },
  {
   "cell_type": "code",
   "execution_count": 5,
   "metadata": {},
   "outputs": [],
   "source": [
    "# Define parameters\n",
    "target_site = 'https://www.allrecipes.com/recipes/'"
   ]
  },
  {
   "cell_type": "code",
   "execution_count": 3,
   "metadata": {},
   "outputs": [],
   "source": [
    "# Main function to scrape the main page and individual recipe pages\n",
    "def main():\n",
    "    main_url = 'https://www.allrecipes.com/recipes/'\n",
    "    response = requests.get(main_url)\n",
    "    soup = BeautifulSoup(response.text, 'html.parser')\n",
    "\n",
    "    # Find all the recipe links (modify the selector as per your requirement)\n",
    "    links = soup.find_all('a', href=True)\n",
    "\n",
    "    # Extract the href attributes to get the URLs\n",
    "    urls = [link['href'] for link in links if '/recipe/' in link['href']]\n",
    "\n",
    "    # Iterate over the URLs and scrape data\n",
    "    for url in urls:\n",
    "        try:\n",
    "            title, ingredients, rating = scrape_recipe(url)\n",
    "            print(f'Scraped {title}')\n",
    "\n",
    "            # Insert the data into the database\n",
    "            c.execute('INSERT INTO recipes (title, ingredients, rating) VALUES (?, ?, ?)',\n",
    "                      (title, ingredients, rating))\n",
    "            conn.commit()\n",
    "        except Exception as e:\n",
    "            print(f'Failed to scrape {url}: {e}')"
   ]
  },
  {
   "cell_type": "code",
   "execution_count": null,
   "metadata": {},
   "outputs": [],
   "source": []
  },
  {
   "cell_type": "code",
   "execution_count": null,
   "metadata": {},
   "outputs": [],
   "source": []
  },
  {
   "cell_type": "code",
   "execution_count": null,
   "metadata": {},
   "outputs": [],
   "source": []
  }
 ],
 "metadata": {
  "kernelspec": {
   "display_name": "Python 3",
   "language": "python",
   "name": "python3"
  },
  "language_info": {
   "codemirror_mode": {
    "name": "ipython",
    "version": 3
   },
   "file_extension": ".py",
   "mimetype": "text/x-python",
   "name": "python",
   "nbconvert_exporter": "python",
   "pygments_lexer": "ipython3",
   "version": "3.12.2"
  }
 },
 "nbformat": 4,
 "nbformat_minor": 2
}
